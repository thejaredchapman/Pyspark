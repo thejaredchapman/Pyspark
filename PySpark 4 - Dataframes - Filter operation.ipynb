{
 "cells": [
  {
   "cell_type": "markdown",
   "id": "72b132a6",
   "metadata": {},
   "source": [
    "### Pyspark Dataframes\n",
    "    Filter Operation\n",
    "    &|,==\n",
    "    ~"
   ]
  },
  {
   "cell_type": "code",
   "execution_count": 1,
   "id": "006357bf",
   "metadata": {},
   "outputs": [],
   "source": [
    "from pyspark.sql import SparkSession"
   ]
  },
  {
   "cell_type": "code",
   "execution_count": 2,
   "id": "837096b3",
   "metadata": {
    "scrolled": true
   },
   "outputs": [
    {
     "name": "stderr",
     "output_type": "stream",
     "text": [
      "c:\\users\\jared\\appdata\\local\\programs\\python\\python36\\lib\\site-packages\\pyspark\\context.py:238: FutureWarning: Python 3.6 support is deprecated in Spark 3.2.\n",
      "  FutureWarning\n"
     ]
    }
   ],
   "source": [
    "spark=SparkSession.builder.appName('dataframe').getOrCreate()"
   ]
  },
  {
   "cell_type": "code",
   "execution_count": 5,
   "id": "3653156e",
   "metadata": {},
   "outputs": [
    {
     "name": "stdout",
     "output_type": "stream",
     "text": [
      "+--------+---+-----------+-------+\n",
      "|    Name|Age|Experience | Salary|\n",
      "+--------+---+-----------+-------+\n",
      "|    John| 40|          5|  35000|\n",
      "|  Amanda| 25|          6|  36000|\n",
      "| Pugsley|  4|          1|1000000|\n",
      "|   Avery| 31|         10|  78000|\n",
      "|Phylicia| 35|         15|  90000|\n",
      "|  Jordan| 31|         16|  87000|\n",
      "| Brendan| 30|         21|  67000|\n",
      "|   Jimmy| 35|          9|  74000|\n",
      "|   Sidni| 17|          8| 210000|\n",
      "+--------+---+-----------+-------+\n",
      "\n"
     ]
    }
   ],
   "source": [
    "df_pyspark=spark.read.csv('fake.csv',header=True,inferSchema=True)\n",
    "df_pyspark.show()"
   ]
  },
  {
   "cell_type": "markdown",
   "id": "be625778",
   "metadata": {},
   "source": [
    "Filter Operations"
   ]
  },
  {
   "cell_type": "code",
   "execution_count": 9,
   "id": "85b60dae",
   "metadata": {},
   "outputs": [
    {
     "name": "stdout",
     "output_type": "stream",
     "text": [
      "+------+---+-----------+------+\n",
      "|  Name|Age|Experience |Salary|\n",
      "+------+---+-----------+------+\n",
      "|  John| 40|          5| 35000|\n",
      "|Amanda| 25|          6| 36000|\n",
      "+------+---+-----------+------+\n",
      "\n"
     ]
    }
   ],
   "source": [
    "### Salary of the people who make less than or equal to 50000\n",
    "df_pyspark.filter(\"Salary<=50000\").show()"
   ]
  },
  {
   "cell_type": "code",
   "execution_count": 10,
   "id": "b31a1e46",
   "metadata": {},
   "outputs": [
    {
     "name": "stdout",
     "output_type": "stream",
     "text": [
      "+------+---+\n",
      "|  Name|age|\n",
      "+------+---+\n",
      "|  John| 40|\n",
      "|Amanda| 25|\n",
      "+------+---+\n",
      "\n"
     ]
    }
   ],
   "source": [
    "df_pyspark.filter(\"Salary<=50000\").select(['Name','age']).show()"
   ]
  },
  {
   "cell_type": "code",
   "execution_count": 11,
   "id": "f6e11f46",
   "metadata": {},
   "outputs": [
    {
     "name": "stdout",
     "output_type": "stream",
     "text": [
      "+------+---+-----------+------+\n",
      "|  Name|Age|Experience |Salary|\n",
      "+------+---+-----------+------+\n",
      "|  John| 40|          5| 35000|\n",
      "|Amanda| 25|          6| 36000|\n",
      "+------+---+-----------+------+\n",
      "\n"
     ]
    }
   ],
   "source": [
    "df_pyspark.filter(df_pyspark['Salary']<=50000).show() #similar queries same result"
   ]
  },
  {
   "cell_type": "code",
   "execution_count": 16,
   "id": "710180ab",
   "metadata": {},
   "outputs": [
    {
     "name": "stdout",
     "output_type": "stream",
     "text": [
      "+-------+---+-----------+------+\n",
      "|   Name|Age|Experience |Salary|\n",
      "+-------+---+-----------+------+\n",
      "|   John| 40|          5| 35000|\n",
      "| Amanda| 25|          6| 36000|\n",
      "|Brendan| 30|         21| 67000|\n",
      "+-------+---+-----------+------+\n",
      "\n"
     ]
    }
   ],
   "source": [
    "df_pyspark.filter((df_pyspark['Salary']<=70000) & (df_pyspark['Salary']>=10000)).show()"
   ]
  },
  {
   "cell_type": "code",
   "execution_count": 18,
   "id": "21d390ee",
   "metadata": {},
   "outputs": [
    {
     "name": "stdout",
     "output_type": "stream",
     "text": [
      "+--------+---+-----------+-------+\n",
      "|    Name|Age|Experience | Salary|\n",
      "+--------+---+-----------+-------+\n",
      "| Pugsley|  4|          1|1000000|\n",
      "|   Avery| 31|         10|  78000|\n",
      "|Phylicia| 35|         15|  90000|\n",
      "|  Jordan| 31|         16|  87000|\n",
      "| Brendan| 30|         21|  67000|\n",
      "|   Jimmy| 35|          9|  74000|\n",
      "|   Sidni| 17|          8| 210000|\n",
      "+--------+---+-----------+-------+\n",
      "\n"
     ]
    }
   ],
   "source": [
    "df_pyspark.filter(~(df_pyspark['Salary']<=50000)).show() # Tilda ~ is a not operation"
   ]
  },
  {
   "cell_type": "code",
   "execution_count": null,
   "id": "2c8dd667",
   "metadata": {},
   "outputs": [],
   "source": []
  },
  {
   "cell_type": "code",
   "execution_count": null,
   "id": "b08b16d0",
   "metadata": {},
   "outputs": [],
   "source": []
  },
  {
   "cell_type": "code",
   "execution_count": null,
   "id": "531ef764",
   "metadata": {},
   "outputs": [],
   "source": []
  },
  {
   "cell_type": "code",
   "execution_count": null,
   "id": "74452b1d",
   "metadata": {},
   "outputs": [],
   "source": []
  },
  {
   "cell_type": "code",
   "execution_count": null,
   "id": "368c8a0e",
   "metadata": {},
   "outputs": [],
   "source": []
  },
  {
   "cell_type": "code",
   "execution_count": null,
   "id": "4dbc9590",
   "metadata": {},
   "outputs": [],
   "source": []
  },
  {
   "cell_type": "code",
   "execution_count": null,
   "id": "159dcb00",
   "metadata": {},
   "outputs": [],
   "source": []
  },
  {
   "cell_type": "code",
   "execution_count": null,
   "id": "05c50f13",
   "metadata": {},
   "outputs": [],
   "source": []
  },
  {
   "cell_type": "code",
   "execution_count": null,
   "id": "dbffaa4e",
   "metadata": {},
   "outputs": [],
   "source": []
  },
  {
   "cell_type": "code",
   "execution_count": null,
   "id": "4ef9c16b",
   "metadata": {},
   "outputs": [],
   "source": []
  },
  {
   "cell_type": "code",
   "execution_count": null,
   "id": "87315891",
   "metadata": {},
   "outputs": [],
   "source": []
  }
 ],
 "metadata": {
  "kernelspec": {
   "display_name": "Python 3",
   "language": "python",
   "name": "python3"
  },
  "language_info": {
   "codemirror_mode": {
    "name": "ipython",
    "version": 3
   },
   "file_extension": ".py",
   "mimetype": "text/x-python",
   "name": "python",
   "nbconvert_exporter": "python",
   "pygments_lexer": "ipython3",
   "version": "3.6.8"
  }
 },
 "nbformat": 4,
 "nbformat_minor": 5
}
