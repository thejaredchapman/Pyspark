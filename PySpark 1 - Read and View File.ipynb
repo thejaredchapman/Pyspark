{
 "cells": [
  {
   "cell_type": "code",
   "execution_count": 1,
   "id": "4b1669ac",
   "metadata": {},
   "outputs": [],
   "source": [
    "import pyspark\n",
    "import findspark\n",
    "findspark. init()"
   ]
  },
  {
   "cell_type": "code",
   "execution_count": 2,
   "id": "d1ada5cc",
   "metadata": {},
   "outputs": [],
   "source": [
    "from pyspark import SparkContext\n",
    "from pyspark import SparkConf"
   ]
  },
  {
   "cell_type": "code",
   "execution_count": 3,
   "id": "2f79fc65",
   "metadata": {},
   "outputs": [
    {
     "data": {
      "text/html": [
       "<div>\n",
       "<style scoped>\n",
       "    .dataframe tbody tr th:only-of-type {\n",
       "        vertical-align: middle;\n",
       "    }\n",
       "\n",
       "    .dataframe tbody tr th {\n",
       "        vertical-align: top;\n",
       "    }\n",
       "\n",
       "    .dataframe thead th {\n",
       "        text-align: right;\n",
       "    }\n",
       "</style>\n",
       "<table border=\"1\" class=\"dataframe\">\n",
       "  <thead>\n",
       "    <tr style=\"text-align: right;\">\n",
       "      <th></th>\n",
       "      <th>Name</th>\n",
       "      <th>Age</th>\n",
       "      <th>Experience</th>\n",
       "      <th>Salary</th>\n",
       "      <th>Departments</th>\n",
       "    </tr>\n",
       "  </thead>\n",
       "  <tbody>\n",
       "    <tr>\n",
       "      <th>0</th>\n",
       "      <td>John</td>\n",
       "      <td>40</td>\n",
       "      <td>5</td>\n",
       "      <td>35000</td>\n",
       "      <td>Heart</td>\n",
       "    </tr>\n",
       "    <tr>\n",
       "      <th>1</th>\n",
       "      <td>Amanda</td>\n",
       "      <td>25</td>\n",
       "      <td>6</td>\n",
       "      <td>36000</td>\n",
       "      <td>Administrative</td>\n",
       "    </tr>\n",
       "    <tr>\n",
       "      <th>2</th>\n",
       "      <td>Pugsley</td>\n",
       "      <td>4</td>\n",
       "      <td>1</td>\n",
       "      <td>1000000</td>\n",
       "      <td>Doctor</td>\n",
       "    </tr>\n",
       "    <tr>\n",
       "      <th>3</th>\n",
       "      <td>Avery</td>\n",
       "      <td>31</td>\n",
       "      <td>10</td>\n",
       "      <td>78000</td>\n",
       "      <td>Supply Chain</td>\n",
       "    </tr>\n",
       "    <tr>\n",
       "      <th>4</th>\n",
       "      <td>Phylicia</td>\n",
       "      <td>35</td>\n",
       "      <td>15</td>\n",
       "      <td>90000</td>\n",
       "      <td>Administrative</td>\n",
       "    </tr>\n",
       "    <tr>\n",
       "      <th>5</th>\n",
       "      <td>Jordan</td>\n",
       "      <td>31</td>\n",
       "      <td>16</td>\n",
       "      <td>87000</td>\n",
       "      <td>Heart</td>\n",
       "    </tr>\n",
       "    <tr>\n",
       "      <th>6</th>\n",
       "      <td>Brendan</td>\n",
       "      <td>30</td>\n",
       "      <td>21</td>\n",
       "      <td>67000</td>\n",
       "      <td>Supply Chain</td>\n",
       "    </tr>\n",
       "    <tr>\n",
       "      <th>7</th>\n",
       "      <td>Jimmy</td>\n",
       "      <td>35</td>\n",
       "      <td>9</td>\n",
       "      <td>74000</td>\n",
       "      <td>Logistics</td>\n",
       "    </tr>\n",
       "    <tr>\n",
       "      <th>8</th>\n",
       "      <td>Sidni</td>\n",
       "      <td>17</td>\n",
       "      <td>8</td>\n",
       "      <td>210000</td>\n",
       "      <td>Stunin'</td>\n",
       "    </tr>\n",
       "  </tbody>\n",
       "</table>\n",
       "</div>"
      ],
      "text/plain": [
       "       Name  Age  Experience    Salary     Departments\n",
       "0      John   40            5    35000           Heart\n",
       "1    Amanda   25            6    36000  Administrative\n",
       "2   Pugsley    4            1  1000000          Doctor\n",
       "3     Avery   31           10    78000    Supply Chain\n",
       "4  Phylicia   35           15    90000  Administrative\n",
       "5    Jordan   31           16    87000           Heart\n",
       "6   Brendan   30           21    67000    Supply Chain\n",
       "7     Jimmy   35            9    74000       Logistics\n",
       "8     Sidni   17            8   210000         Stunin'"
      ]
     },
     "execution_count": 3,
     "metadata": {},
     "output_type": "execute_result"
    }
   ],
   "source": [
    "import pandas as pd\n",
    "pd.read_csv('fake.csv')"
   ]
  },
  {
   "cell_type": "code",
   "execution_count": 4,
   "id": "2ad9401f",
   "metadata": {},
   "outputs": [],
   "source": [
    "from pyspark.sql import SparkSession"
   ]
  },
  {
   "cell_type": "code",
   "execution_count": 5,
   "id": "cdd6c00c",
   "metadata": {
    "scrolled": true
   },
   "outputs": [
    {
     "name": "stderr",
     "output_type": "stream",
     "text": [
      "c:\\users\\jared\\appdata\\local\\programs\\python\\python36\\lib\\site-packages\\pyspark\\context.py:238: FutureWarning: Python 3.6 support is deprecated in Spark 3.2.\n",
      "  FutureWarning\n"
     ]
    }
   ],
   "source": [
    "spark = SparkSession.builder.appName('Practice').getOrCreate()"
   ]
  },
  {
   "cell_type": "code",
   "execution_count": 6,
   "id": "f30ccd9d",
   "metadata": {},
   "outputs": [
    {
     "data": {
      "text/html": [
       "\n",
       "            <div>\n",
       "                <p><b>SparkSession - in-memory</b></p>\n",
       "                \n",
       "        <div>\n",
       "            <p><b>SparkContext</b></p>\n",
       "\n",
       "            <p><a href=\"http://host.docker.internal:4042\">Spark UI</a></p>\n",
       "\n",
       "            <dl>\n",
       "              <dt>Version</dt>\n",
       "                <dd><code>v3.2.1</code></dd>\n",
       "              <dt>Master</dt>\n",
       "                <dd><code>local[*]</code></dd>\n",
       "              <dt>AppName</dt>\n",
       "                <dd><code>Practice</code></dd>\n",
       "            </dl>\n",
       "        </div>\n",
       "        \n",
       "            </div>\n",
       "        "
      ],
      "text/plain": [
       "<pyspark.sql.session.SparkSession at 0x1fd7994b898>"
      ]
     },
     "execution_count": 6,
     "metadata": {},
     "output_type": "execute_result"
    }
   ],
   "source": [
    "spark"
   ]
  },
  {
   "cell_type": "code",
   "execution_count": 7,
   "id": "4df2d997",
   "metadata": {},
   "outputs": [],
   "source": [
    "df_pyspark=spark.read.csv('fake.csv')"
   ]
  },
  {
   "cell_type": "code",
   "execution_count": 8,
   "id": "0fad59ac",
   "metadata": {},
   "outputs": [
    {
     "data": {
      "text/plain": [
       "DataFrame[_c0: string, _c1: string, _c2: string, _c3: string, _c4: string]"
      ]
     },
     "execution_count": 8,
     "metadata": {},
     "output_type": "execute_result"
    }
   ],
   "source": [
    "df_pyspark"
   ]
  },
  {
   "cell_type": "code",
   "execution_count": 9,
   "id": "4eb7bf58",
   "metadata": {},
   "outputs": [],
   "source": [
    "df_spark=spark.read.option('header','true').csv('fake.csv')"
   ]
  },
  {
   "cell_type": "code",
   "execution_count": 10,
   "id": "3fda9abd",
   "metadata": {},
   "outputs": [
    {
     "data": {
      "text/plain": [
       "pyspark.sql.dataframe.DataFrame"
      ]
     },
     "execution_count": 10,
     "metadata": {},
     "output_type": "execute_result"
    }
   ],
   "source": [
    "type(df_spark)"
   ]
  },
  {
   "cell_type": "code",
   "execution_count": 11,
   "id": "1a716270",
   "metadata": {},
   "outputs": [
    {
     "data": {
      "text/plain": [
       "[Row(Name='John', Age='40', Experience ='5', Salary='35000', Departments='Heart'),\n",
       " Row(Name='Amanda', Age='25', Experience ='6', Salary='36000', Departments='Administrative'),\n",
       " Row(Name='Pugsley', Age='4', Experience ='1', Salary='1000000', Departments='Doctor'),\n",
       " Row(Name='Avery', Age='31', Experience ='10', Salary='78000', Departments='Supply Chain'),\n",
       " Row(Name='Phylicia', Age='35', Experience ='15', Salary='90000', Departments='Administrative'),\n",
       " Row(Name='Jordan', Age='31', Experience ='16', Salary='87000', Departments='Heart'),\n",
       " Row(Name='Brendan', Age='30', Experience ='21', Salary='67000', Departments='Supply Chain'),\n",
       " Row(Name='Jimmy', Age='35', Experience ='9', Salary='74000', Departments='Logistics'),\n",
       " Row(Name='Sidni', Age='17', Experience ='8', Salary='210000', Departments=\"Stunin'\")]"
      ]
     },
     "execution_count": 11,
     "metadata": {},
     "output_type": "execute_result"
    }
   ],
   "source": [
    "df_spark.head(10)"
   ]
  },
  {
   "cell_type": "code",
   "execution_count": 12,
   "id": "78ff27c6",
   "metadata": {},
   "outputs": [
    {
     "name": "stdout",
     "output_type": "stream",
     "text": [
      "root\n",
      " |-- Name: string (nullable = true)\n",
      " |-- Age: string (nullable = true)\n",
      " |-- Experience : string (nullable = true)\n",
      " |-- Salary: string (nullable = true)\n",
      " |-- Departments: string (nullable = true)\n",
      "\n"
     ]
    }
   ],
   "source": [
    "df_spark.printSchema()"
   ]
  }
 ],
 "metadata": {
  "kernelspec": {
   "display_name": "Python 3",
   "language": "python",
   "name": "python3"
  },
  "language_info": {
   "codemirror_mode": {
    "name": "ipython",
    "version": 3
   },
   "file_extension": ".py",
   "mimetype": "text/x-python",
   "name": "python",
   "nbconvert_exporter": "python",
   "pygments_lexer": "ipython3",
   "version": "3.6.8"
  }
 },
 "nbformat": 4,
 "nbformat_minor": 5
}
